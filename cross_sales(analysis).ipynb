{
  "cells": [
    {
      "cell_type": "markdown",
      "metadata": {
        "id": "view-in-github",
        "colab_type": "text"
      },
      "source": [
        "<a href=\"https://colab.research.google.com/github/Asterlok/cross_sales_analysis/blob/main/cross_sales(analysis).ipynb\" target=\"_parent\"><img src=\"https://colab.research.google.com/assets/colab-badge.svg\" alt=\"Open In Colab\"/></a>"
      ]
    },
    {
      "cell_type": "code",
      "execution_count": null,
      "id": "9c9f035c",
      "metadata": {
        "id": "9c9f035c"
      },
      "outputs": [],
      "source": [
        "import pandas as pd\n",
        "import numpy as np\n",
        "import re"
      ]
    },
    {
      "cell_type": "markdown",
      "source": [
        "Read dataframes"
      ],
      "metadata": {
        "id": "KIjuc-FAkR6R"
      },
      "id": "KIjuc-FAkR6R"
    },
    {
      "cell_type": "code",
      "execution_count": null,
      "id": "b39d48bf",
      "metadata": {
        "id": "b39d48bf"
      },
      "outputs": [],
      "source": [
        "purch = pd.read_csv('png_magnit_purchases.csv')"
      ]
    },
    {
      "cell_type": "code",
      "execution_count": null,
      "id": "07fa3216",
      "metadata": {
        "scrolled": true,
        "id": "07fa3216"
      },
      "outputs": [],
      "source": [
        "cust = pd.read_csv('png_magnit_customers.csv')\n",
        "cust"
      ]
    },
    {
      "cell_type": "markdown",
      "source": [
        "Merge dataframes on 'customer' collumn"
      ],
      "metadata": {
        "id": "25ZFeqFekYF1"
      },
      "id": "25ZFeqFekYF1"
    },
    {
      "cell_type": "code",
      "execution_count": null,
      "id": "3e911f48",
      "metadata": {
        "scrolled": true,
        "id": "3e911f48"
      },
      "outputs": [],
      "source": [
        "full = cust.merge(purch, how='inner', on='customer')"
      ]
    },
    {
      "cell_type": "markdown",
      "source": [
        "I make a selection of female 41-45 yo."
      ],
      "metadata": {
        "id": "H2OIqO8OkqQF"
      },
      "id": "H2OIqO8OkqQF"
    },
    {
      "cell_type": "code",
      "execution_count": null,
      "id": "02319646",
      "metadata": {
        "id": "02319646"
      },
      "outputs": [],
      "source": [
        "female = full.loc[full['gender'] == 'F']\n",
        "female"
      ]
    },
    {
      "cell_type": "code",
      "execution_count": null,
      "id": "a9b22d82",
      "metadata": {
        "id": "a9b22d82"
      },
      "outputs": [],
      "source": [
        "female_age = female.loc[female['customer_age_group'] >= '[41 - 45]']\n",
        "female_age"
      ]
    },
    {
      "cell_type": "markdown",
      "source": [
        "...these female has buy P&G product"
      ],
      "metadata": {
        "id": "cDKCNed1lD3G"
      },
      "id": "cDKCNed1lD3G"
    },
    {
      "cell_type": "code",
      "execution_count": null,
      "id": "00595f57",
      "metadata": {
        "id": "00595f57"
      },
      "outputs": [],
      "source": [
        "df_pg = female_age.loc[female_age['p&g_product'] != 0.0]\n",
        "df_pg"
      ]
    },
    {
      "cell_type": "markdown",
      "source": [
        "...and any other product"
      ],
      "metadata": {
        "id": "tpQQW-58ll8L"
      },
      "id": "tpQQW-58ll8L"
    },
    {
      "cell_type": "code",
      "execution_count": null,
      "id": "0b4a8962",
      "metadata": {
        "id": "0b4a8962"
      },
      "outputs": [],
      "source": [
        "df_pg_other = df_pg.loc[df_pg['other_product'] != 0.0]\n",
        "df_pg_other"
      ]
    },
    {
      "cell_type": "code",
      "execution_count": null,
      "id": "6c207c4c",
      "metadata": {
        "id": "6c207c4c"
      },
      "outputs": [],
      "source": [
        "sum_for_customer = df_pg_other.groupby(['customer','purchase date','product']).agg('count')\n",
        "sum_for_customer"
      ]
    },
    {
      "cell_type": "code",
      "execution_count": null,
      "id": "9988354c",
      "metadata": {
        "id": "9988354c"
      },
      "outputs": [],
      "source": [
        "sum_for_customer.to_excel('new_sum_for_female_40+.xlsx')"
      ]
    },
    {
      "cell_type": "code",
      "execution_count": null,
      "id": "0b2aef43",
      "metadata": {
        "id": "0b2aef43"
      },
      "outputs": [],
      "source": [
        "# считаем всё для мужчин старше 40"
      ]
    },
    {
      "cell_type": "code",
      "execution_count": null,
      "id": "29238774",
      "metadata": {
        "id": "29238774"
      },
      "outputs": [],
      "source": [
        "male = full.loc[full['gender'] == 'M']"
      ]
    },
    {
      "cell_type": "code",
      "execution_count": null,
      "id": "3f2c0b78",
      "metadata": {
        "id": "3f2c0b78"
      },
      "outputs": [],
      "source": [
        "male_age = male.loc[male['customer_age_group'] >= '[41 - 45]']"
      ]
    },
    {
      "cell_type": "code",
      "execution_count": null,
      "id": "77e2161e",
      "metadata": {
        "id": "77e2161e"
      },
      "outputs": [],
      "source": [
        "df_pg_male_40_more = male_age.loc[male_age['p&g_product'] != 0.0]"
      ]
    },
    {
      "cell_type": "code",
      "execution_count": null,
      "id": "583e0f91",
      "metadata": {
        "id": "583e0f91"
      },
      "outputs": [],
      "source": [
        "df_pg_other_male_40_more = df_pg_male_40_more.loc[df_pg_male_40_more['other_product'] != 0.0]"
      ]
    },
    {
      "cell_type": "code",
      "execution_count": null,
      "id": "4142a60c",
      "metadata": {
        "id": "4142a60c"
      },
      "outputs": [],
      "source": [
        "sum_for_male_40_more = df_pg_other_male_40_more.groupby(['customer','purchase date','product']).agg('count')"
      ]
    },
    {
      "cell_type": "code",
      "execution_count": null,
      "id": "d2f41832",
      "metadata": {
        "id": "d2f41832"
      },
      "outputs": [],
      "source": [
        "sum_for_male_40_more.to_excel('sum_for_male_40_more.xlsx')"
      ]
    },
    {
      "cell_type": "code",
      "execution_count": null,
      "id": "66299f27",
      "metadata": {
        "id": "66299f27"
      },
      "outputs": [],
      "source": [
        "# считаем всё для женщин младше 40"
      ]
    },
    {
      "cell_type": "code",
      "execution_count": null,
      "id": "af8c20d2",
      "metadata": {
        "id": "af8c20d2"
      },
      "outputs": [],
      "source": [
        "female_40_less = full.loc[full['gender'] == 'F']"
      ]
    },
    {
      "cell_type": "code",
      "execution_count": null,
      "id": "3964e9c6",
      "metadata": {
        "id": "3964e9c6"
      },
      "outputs": [],
      "source": [
        "female_40_less_age = female_40_less.loc[female_40_less['customer_age_group'] < '[41 - 45]']"
      ]
    },
    {
      "cell_type": "code",
      "execution_count": null,
      "id": "685b24b7",
      "metadata": {
        "id": "685b24b7"
      },
      "outputs": [],
      "source": [
        "df_pg_female_40_less_age = female_40_less_age.loc[female_40_less_age['p&g_product'] != 0.0]"
      ]
    },
    {
      "cell_type": "code",
      "execution_count": null,
      "id": "8b81da3a",
      "metadata": {
        "id": "8b81da3a"
      },
      "outputs": [],
      "source": [
        "df_pg_other_female_40_less_age = df_pg_female_40_less_age.loc[df_pg_female_40_less_age['other_product'] != 0.0]"
      ]
    },
    {
      "cell_type": "code",
      "execution_count": null,
      "id": "d62c51de",
      "metadata": {
        "id": "d62c51de"
      },
      "outputs": [],
      "source": [
        "sum_for_female_40_less_age = df_pg_other_female_40_less_age.groupby(['customer','purchase date','product']).agg('count')"
      ]
    },
    {
      "cell_type": "code",
      "execution_count": null,
      "id": "32a477ff",
      "metadata": {
        "id": "32a477ff"
      },
      "outputs": [],
      "source": [
        "sum_for_female_40_less_age.to_excel('sum_for_female_40_less_age.xlsx')"
      ]
    },
    {
      "cell_type": "code",
      "execution_count": null,
      "id": "56c7b3a6",
      "metadata": {
        "id": "56c7b3a6"
      },
      "outputs": [],
      "source": [
        "# считаем всё для мужчин моложе 40"
      ]
    },
    {
      "cell_type": "code",
      "execution_count": null,
      "id": "66af7cc5",
      "metadata": {
        "id": "66af7cc5"
      },
      "outputs": [],
      "source": [
        "male_40_less = full.loc[full['gender'] == 'M']\n",
        "male_40_less_age = male_40_less.loc[male_40_less['customer_age_group'] < '[41 - 45]']\n",
        "df_pg_male_40_less = male_40_less_age.loc[male_40_less_age['p&g_product'] != 0.0]\n",
        "df_pg_other_male_40_less = df_pg_male_40_less.loc[df_pg_male_40_less['other_product'] != 0.0]\n",
        "sum_for_male_40_less = df_pg_other_male_40_less.groupby(['customer','purchase date','product']).agg('count')"
      ]
    },
    {
      "cell_type": "code",
      "execution_count": null,
      "id": "bef4a1a2",
      "metadata": {
        "id": "bef4a1a2"
      },
      "outputs": [],
      "source": [
        "sum_for_male_40_less.to_excel('sum_for_male_40_less.xlsx')"
      ]
    }
  ],
  "metadata": {
    "kernelspec": {
      "display_name": "Python 3 (ipykernel)",
      "language": "python",
      "name": "python3"
    },
    "language_info": {
      "codemirror_mode": {
        "name": "ipython",
        "version": 3
      },
      "file_extension": ".py",
      "mimetype": "text/x-python",
      "name": "python",
      "nbconvert_exporter": "python",
      "pygments_lexer": "ipython3",
      "version": "3.10.1"
    },
    "colab": {
      "name": "cross_sales(analysis).ipynb",
      "provenance": [],
      "include_colab_link": true
    }
  },
  "nbformat": 4,
  "nbformat_minor": 5
}