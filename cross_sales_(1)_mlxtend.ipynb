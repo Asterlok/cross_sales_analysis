{
  "nbformat": 4,
  "nbformat_minor": 0,
  "metadata": {
    "colab": {
      "name": "cross-sales (1) mlxtend.ipynb",
      "provenance": [],
      "mount_file_id": "1Y53MmBike9sU2oy9ULvqybeGEFFefMeR",
      "authorship_tag": "ABX9TyPqX89qbKU7Dy6OxuJgbW42",
      "include_colab_link": true
    },
    "kernelspec": {
      "name": "python3",
      "display_name": "Python 3"
    },
    "language_info": {
      "name": "python"
    }
  },
  "cells": [
    {
      "cell_type": "markdown",
      "metadata": {
        "id": "view-in-github",
        "colab_type": "text"
      },
      "source": [
        "<a href=\"https://colab.research.google.com/github/Asterlok/cross_sales_analysis/blob/main/cross_sales_(1)_mlxtend.ipynb\" target=\"_parent\"><img src=\"https://colab.research.google.com/assets/colab-badge.svg\" alt=\"Open In Colab\"/></a>"
      ]
    },
    {
      "cell_type": "code",
      "execution_count": 1,
      "metadata": {
        "id": "ghgxEK2xDy5K"
      },
      "outputs": [],
      "source": [
        "import pandas as pd\n",
        "\n",
        "from mlxtend.frequent_patterns import apriori\n",
        "from mlxtend.frequent_patterns import association_rules"
      ]
    },
    {
      "cell_type": "code",
      "source": [
        "df = pd.read_excel('sum_for_male_40_less.xlsx')\n",
        "df.dropna(axis=0, subset=['customer'], inplace=True)\n",
        "df['customer'] = df['customer'].astype('str')"
      ],
      "metadata": {
        "id": "-v3RgmnxD-o6"
      },
      "execution_count": null,
      "outputs": []
    },
    {
      "cell_type": "code",
      "source": [
        "market_basket = df.groupby(\n",
        "                ['customer', 'product'])['count']"
      ],
      "metadata": {
        "id": "ScE54UGFFd56"
      },
      "execution_count": null,
      "outputs": []
    },
    {
      "cell_type": "markdown",
      "source": [
        "I want to hot encode the data and get 1 transaction per row to prepare to run our mlxtend analysis."
      ],
      "metadata": {
        "id": "WtzlUoG7eJuo"
      }
    },
    {
      "cell_type": "code",
      "source": [
        "market_basket = market_basket.sum().unstack().reset_index().fillna(0).set_index('customer')"
      ],
      "metadata": {
        "id": "h5daifxUFqw6"
      },
      "execution_count": null,
      "outputs": []
    },
    {
      "cell_type": "code",
      "source": [
        "market_basket"
      ],
      "metadata": {
        "id": "Ahwc96ruFuaJ"
      },
      "execution_count": null,
      "outputs": []
    },
    {
      "cell_type": "markdown",
      "source": [
        "I’ve encoded data to show when a product is sold with another product. If there is a zero, that means those products haven’t sold together. Before continue, I want to convert all of numbers to either a `1` or a `0` (negative numbers are converted to zero, positive numbers are converted to 1). I can do this encoding step with the following function:"
      ],
      "metadata": {
        "id": "yA078Os-eTxx"
      }
    },
    {
      "cell_type": "code",
      "source": [
        "def encode_data(datapoint):\n",
        "    if datapoint <= 0:\n",
        "        return 0\n",
        "    if datapoint >= 1:\n",
        "        return 1"
      ],
      "metadata": {
        "id": "gk47T1lnFv3p"
      },
      "execution_count": null,
      "outputs": []
    },
    {
      "cell_type": "markdown",
      "source": [
        "And now, I do final encoding step:"
      ],
      "metadata": {
        "id": "1mJjJrXlelXe"
      }
    },
    {
      "cell_type": "code",
      "source": [
        "market_basket = market_basket.applymap(encode_data)"
      ],
      "metadata": {
        "id": "9ril9FFlFz0R"
      },
      "execution_count": null,
      "outputs": []
    },
    {
      "cell_type": "markdown",
      "source": [
        "There one thing I need to think about first. the `apriori` function requires us to provide a minimum level of ‘support’. Support is defined as the percentage of time that an itemset appears in the dataset. If you set support = 50%, you’ll only get itemsets that appear 50% of the time. Setting the support level to high could lead to very few (or no) results and setting it too low could require an enormous amount of memory to process the data.\n",
        "There one thing I need to think about first. the `apriori` function requires us to provide a minimum level of ‘support’. Support is defined as the percentage of time that an itemset appears in the dataset. If I set support = 50%, I’ll only get itemsets that appear 50% of the time. Setting the support level to high could lead to very few (or no) results and setting it too low could require an enormous amount of memory to process the data."
      ],
      "metadata": {
        "id": "qgP_ZRaye1bx"
      }
    },
    {
      "cell_type": "code",
      "source": [
        "itemsets = apriori(market_basket, min_support=0.004, use_colnames=True)\n",
        "itemsets"
      ],
      "metadata": {
        "id": "nG7kxf29IeS5"
      },
      "execution_count": null,
      "outputs": []
    },
    {
      "cell_type": "markdown",
      "source": [
        "The final step is to build your association rules using the mxltend `association_rules` function. You can set the metric that you are most interested in (either `lift` or `confidence` and set the minimum threshold for the condfidence level (called `min_threshold`). The `min_threshold` can be thought of as the level of confidence percentage that you want to return. For example, if you set `min_threshold` to 1, you will only see rules with 100% confidence. "
      ],
      "metadata": {
        "id": "m4ClFGw6fS7x"
      }
    },
    {
      "cell_type": "code",
      "source": [
        "rules = association_rules(itemsets, metric=\"lift\", min_threshold=0.6)\n",
        "rules"
      ],
      "metadata": {
        "colab": {
          "base_uri": "https://localhost:8080/",
          "height": 238
        },
        "id": "6ykvGGBKIg64",
        "outputId": "031dc740-a89a-4370-d231-bea92d5cfdab"
      },
      "execution_count": null,
      "outputs": [
        {
          "output_type": "execute_result",
          "data": {
            "text/html": [
              "\n",
              "  <div id=\"df-3b0c456f-052b-4a43-a70f-61270a18ec40\">\n",
              "    <div class=\"colab-df-container\">\n",
              "      <div>\n",
              "<style scoped>\n",
              "    .dataframe tbody tr th:only-of-type {\n",
              "        vertical-align: middle;\n",
              "    }\n",
              "\n",
              "    .dataframe tbody tr th {\n",
              "        vertical-align: top;\n",
              "    }\n",
              "\n",
              "    .dataframe thead th {\n",
              "        text-align: right;\n",
              "    }\n",
              "</style>\n",
              "<table border=\"1\" class=\"dataframe\">\n",
              "  <thead>\n",
              "    <tr style=\"text-align: right;\">\n",
              "      <th></th>\n",
              "      <th>antecedents</th>\n",
              "      <th>consequents</th>\n",
              "      <th>antecedent support</th>\n",
              "      <th>consequent support</th>\n",
              "      <th>support</th>\n",
              "      <th>confidence</th>\n",
              "      <th>lift</th>\n",
              "      <th>leverage</th>\n",
              "      <th>conviction</th>\n",
              "    </tr>\n",
              "  </thead>\n",
              "  <tbody>\n",
              "    <tr>\n",
              "      <th>0</th>\n",
              "      <td>(Шампуни)</td>\n",
              "      <td>(Бальзамы и кондиционеры)</td>\n",
              "      <td>0.147600</td>\n",
              "      <td>0.012920</td>\n",
              "      <td>0.004792</td>\n",
              "      <td>0.032464</td>\n",
              "      <td>2.512610</td>\n",
              "      <td>0.002885</td>\n",
              "      <td>1.020199</td>\n",
              "    </tr>\n",
              "    <tr>\n",
              "      <th>1</th>\n",
              "      <td>(Бальзамы и кондиционеры)</td>\n",
              "      <td>(Шампуни)</td>\n",
              "      <td>0.012920</td>\n",
              "      <td>0.147600</td>\n",
              "      <td>0.004792</td>\n",
              "      <td>0.370861</td>\n",
              "      <td>2.512610</td>\n",
              "      <td>0.002885</td>\n",
              "      <td>1.354868</td>\n",
              "    </tr>\n",
              "    <tr>\n",
              "      <th>2</th>\n",
              "      <td>(Чистящие средства)</td>\n",
              "      <td>(Жидкие средства для стирки)</td>\n",
              "      <td>0.234876</td>\n",
              "      <td>0.026696</td>\n",
              "      <td>0.004278</td>\n",
              "      <td>0.018215</td>\n",
              "      <td>0.682301</td>\n",
              "      <td>-0.001992</td>\n",
              "      <td>0.991361</td>\n",
              "    </tr>\n",
              "    <tr>\n",
              "      <th>3</th>\n",
              "      <td>(Жидкие средства для стирки)</td>\n",
              "      <td>(Чистящие средства)</td>\n",
              "      <td>0.026696</td>\n",
              "      <td>0.234876</td>\n",
              "      <td>0.004278</td>\n",
              "      <td>0.160256</td>\n",
              "      <td>0.682301</td>\n",
              "      <td>-0.001992</td>\n",
              "      <td>0.911140</td>\n",
              "    </tr>\n",
              "    <tr>\n",
              "      <th>4</th>\n",
              "      <td>(Прокладки)</td>\n",
              "      <td>(Прокладки ежедневные)</td>\n",
              "      <td>0.155557</td>\n",
              "      <td>0.044152</td>\n",
              "      <td>0.004877</td>\n",
              "      <td>0.031353</td>\n",
              "      <td>0.710124</td>\n",
              "      <td>-0.001991</td>\n",
              "      <td>0.986787</td>\n",
              "    </tr>\n",
              "    <tr>\n",
              "      <th>5</th>\n",
              "      <td>(Прокладки ежедневные)</td>\n",
              "      <td>(Прокладки)</td>\n",
              "      <td>0.044152</td>\n",
              "      <td>0.155557</td>\n",
              "      <td>0.004877</td>\n",
              "      <td>0.110465</td>\n",
              "      <td>0.710124</td>\n",
              "      <td>-0.001991</td>\n",
              "      <td>0.949308</td>\n",
              "    </tr>\n",
              "  </tbody>\n",
              "</table>\n",
              "</div>\n",
              "      <button class=\"colab-df-convert\" onclick=\"convertToInteractive('df-3b0c456f-052b-4a43-a70f-61270a18ec40')\"\n",
              "              title=\"Convert this dataframe to an interactive table.\"\n",
              "              style=\"display:none;\">\n",
              "        \n",
              "  <svg xmlns=\"http://www.w3.org/2000/svg\" height=\"24px\"viewBox=\"0 0 24 24\"\n",
              "       width=\"24px\">\n",
              "    <path d=\"M0 0h24v24H0V0z\" fill=\"none\"/>\n",
              "    <path d=\"M18.56 5.44l.94 2.06.94-2.06 2.06-.94-2.06-.94-.94-2.06-.94 2.06-2.06.94zm-11 1L8.5 8.5l.94-2.06 2.06-.94-2.06-.94L8.5 2.5l-.94 2.06-2.06.94zm10 10l.94 2.06.94-2.06 2.06-.94-2.06-.94-.94-2.06-.94 2.06-2.06.94z\"/><path d=\"M17.41 7.96l-1.37-1.37c-.4-.4-.92-.59-1.43-.59-.52 0-1.04.2-1.43.59L10.3 9.45l-7.72 7.72c-.78.78-.78 2.05 0 2.83L4 21.41c.39.39.9.59 1.41.59.51 0 1.02-.2 1.41-.59l7.78-7.78 2.81-2.81c.8-.78.8-2.07 0-2.86zM5.41 20L4 18.59l7.72-7.72 1.47 1.35L5.41 20z\"/>\n",
              "  </svg>\n",
              "      </button>\n",
              "      \n",
              "  <style>\n",
              "    .colab-df-container {\n",
              "      display:flex;\n",
              "      flex-wrap:wrap;\n",
              "      gap: 12px;\n",
              "    }\n",
              "\n",
              "    .colab-df-convert {\n",
              "      background-color: #E8F0FE;\n",
              "      border: none;\n",
              "      border-radius: 50%;\n",
              "      cursor: pointer;\n",
              "      display: none;\n",
              "      fill: #1967D2;\n",
              "      height: 32px;\n",
              "      padding: 0 0 0 0;\n",
              "      width: 32px;\n",
              "    }\n",
              "\n",
              "    .colab-df-convert:hover {\n",
              "      background-color: #E2EBFA;\n",
              "      box-shadow: 0px 1px 2px rgba(60, 64, 67, 0.3), 0px 1px 3px 1px rgba(60, 64, 67, 0.15);\n",
              "      fill: #174EA6;\n",
              "    }\n",
              "\n",
              "    [theme=dark] .colab-df-convert {\n",
              "      background-color: #3B4455;\n",
              "      fill: #D2E3FC;\n",
              "    }\n",
              "\n",
              "    [theme=dark] .colab-df-convert:hover {\n",
              "      background-color: #434B5C;\n",
              "      box-shadow: 0px 1px 3px 1px rgba(0, 0, 0, 0.15);\n",
              "      filter: drop-shadow(0px 1px 2px rgba(0, 0, 0, 0.3));\n",
              "      fill: #FFFFFF;\n",
              "    }\n",
              "  </style>\n",
              "\n",
              "      <script>\n",
              "        const buttonEl =\n",
              "          document.querySelector('#df-3b0c456f-052b-4a43-a70f-61270a18ec40 button.colab-df-convert');\n",
              "        buttonEl.style.display =\n",
              "          google.colab.kernel.accessAllowed ? 'block' : 'none';\n",
              "\n",
              "        async function convertToInteractive(key) {\n",
              "          const element = document.querySelector('#df-3b0c456f-052b-4a43-a70f-61270a18ec40');\n",
              "          const dataTable =\n",
              "            await google.colab.kernel.invokeFunction('convertToInteractive',\n",
              "                                                     [key], {});\n",
              "          if (!dataTable) return;\n",
              "\n",
              "          const docLinkHtml = 'Like what you see? Visit the ' +\n",
              "            '<a target=\"_blank\" href=https://colab.research.google.com/notebooks/data_table.ipynb>data table notebook</a>'\n",
              "            + ' to learn more about interactive tables.';\n",
              "          element.innerHTML = '';\n",
              "          dataTable['output_type'] = 'display_data';\n",
              "          await google.colab.output.renderOutput(dataTable, element);\n",
              "          const docLink = document.createElement('div');\n",
              "          docLink.innerHTML = docLinkHtml;\n",
              "          element.appendChild(docLink);\n",
              "        }\n",
              "      </script>\n",
              "    </div>\n",
              "  </div>\n",
              "  "
            ],
            "text/plain": [
              "                    antecedents                   consequents  \\\n",
              "0                     (Шампуни)     (Бальзамы и кондиционеры)   \n",
              "1     (Бальзамы и кондиционеры)                     (Шампуни)   \n",
              "2           (Чистящие средства)  (Жидкие средства для стирки)   \n",
              "3  (Жидкие средства для стирки)           (Чистящие средства)   \n",
              "4                   (Прокладки)        (Прокладки ежедневные)   \n",
              "5        (Прокладки ежедневные)                   (Прокладки)   \n",
              "\n",
              "   antecedent support  consequent support   support  confidence      lift  \\\n",
              "0            0.147600            0.012920  0.004792    0.032464  2.512610   \n",
              "1            0.012920            0.147600  0.004792    0.370861  2.512610   \n",
              "2            0.234876            0.026696  0.004278    0.018215  0.682301   \n",
              "3            0.026696            0.234876  0.004278    0.160256  0.682301   \n",
              "4            0.155557            0.044152  0.004877    0.031353  0.710124   \n",
              "5            0.044152            0.155557  0.004877    0.110465  0.710124   \n",
              "\n",
              "   leverage  conviction  \n",
              "0  0.002885    1.020199  \n",
              "1  0.002885    1.354868  \n",
              "2 -0.001992    0.991361  \n",
              "3 -0.001992    0.911140  \n",
              "4 -0.001991    0.986787  \n",
              "5 -0.001991    0.949308  "
            ]
          },
          "metadata": {},
          "execution_count": 71
        }
      ]
    },
    {
      "cell_type": "code",
      "source": [
        "rules.to_excel(\"cross_sales_male_40Less.xlsx\") "
      ],
      "metadata": {
        "id": "xW74q4uRI7JQ"
      },
      "execution_count": null,
      "outputs": []
    }
  ]
}